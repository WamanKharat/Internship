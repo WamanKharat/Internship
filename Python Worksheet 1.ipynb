{
 "cells": [
  {
   "cell_type": "markdown",
   "id": "2ee0f83b",
   "metadata": {},
   "source": [
    "Q.11 Write a python program to find the factorial of a number."
   ]
  },
  {
   "cell_type": "code",
   "execution_count": 3,
   "id": "fa02d8e7",
   "metadata": {},
   "outputs": [
    {
     "name": "stdout",
     "output_type": "stream",
     "text": [
      "Enter any number =7\n",
      "Factorial of the given Number is  5040\n"
     ]
    }
   ],
   "source": [
    "x=int(input(\"Enter any number =\"))\n",
    "factorial=1\n",
    "if x>=1:\n",
    "    for i in range(1,x+1):\n",
    "        factorial=factorial*i\n",
    "print('Factorial of the given Number is ',factorial)"
   ]
  },
  {
   "cell_type": "markdown",
   "id": "0822996c",
   "metadata": {},
   "source": [
    "Q.12 Write a python program to find whether a number is prime or composite."
   ]
  },
  {
   "cell_type": "code",
   "execution_count": 7,
   "id": "35a42a11",
   "metadata": {},
   "outputs": [
    {
     "name": "stdout",
     "output_type": "stream",
     "text": [
      "Enter any number99\n",
      "The Given number is composite 99\n"
     ]
    }
   ],
   "source": [
    "k=int(input(\"Enter any number\"))\n",
    "for i in range(2,k):\n",
    "    if (k%i==0):\n",
    "        print(\"The Given number is composite\",k)\n",
    "        break\n",
    "else:\n",
    "    print(\"The Given number is prime\",k)"
   ]
  },
  {
   "cell_type": "markdown",
   "id": "434708b3",
   "metadata": {},
   "source": [
    "Q.13 Write a python program to check whether a given string is palindrome or not."
   ]
  },
  {
   "cell_type": "code",
   "execution_count": 8,
   "id": "a5e7803d",
   "metadata": {},
   "outputs": [
    {
     "name": "stdout",
     "output_type": "stream",
     "text": [
      "The string is palindrome.\n"
     ]
    }
   ],
   "source": [
    "word='ABCDDCBA'\n",
    "word=word.casefold()\n",
    "rev_word=reversed(word)\n",
    "if list(word)==list(rev_word):\n",
    "    print(\"The string is palindrome.\")\n",
    "else:\n",
    "    print(\"The string is not palindrome.\")\n"
   ]
  },
  {
   "cell_type": "markdown",
   "id": "7f027ad5",
   "metadata": {},
   "source": [
    "Q.14 Write a Python program to get the third side of right-angled triangle from two given sides."
   ]
  },
  {
   "cell_type": "code",
   "execution_count": 3,
   "id": "cc3c0e9d",
   "metadata": {},
   "outputs": [
    {
     "name": "stdout",
     "output_type": "stream",
     "text": [
      "Enter the value of side a=7\n",
      "Enter the value of side b=3\n",
      "The length of the Third side c is 7.615773105863909\n"
     ]
    }
   ],
   "source": [
    "import math\n",
    "\n",
    "a=int(input('Enter the value of side a='))\n",
    "b=int(input('Enter the value of side b='))\n",
    "\n",
    "c=math.sqrt(a**2+b**2)\n",
    "print(\"The length of the Third side c is\",c)"
   ]
  },
  {
   "cell_type": "markdown",
   "id": "fb121b62",
   "metadata": {},
   "source": [
    "Q.15 Write a python program to print the frequency of each of the characters present in a given string."
   ]
  },
  {
   "cell_type": "code",
   "execution_count": 9,
   "id": "5690458a",
   "metadata": {},
   "outputs": [
    {
     "name": "stdout",
     "output_type": "stream",
     "text": [
      "N:2,e:4,v:2,e:4,r:2, :2,s:1,a:1,y:1, :2,N:2,e:4,v:2,e:4,r:2,"
     ]
    }
   ],
   "source": [
    "String=\"Never say Never\"\n",
    "for i in String:\n",
    "    frequency=String.count(i)\n",
    "    print(str(i)+ \":\"+str(frequency),end=\",\")"
   ]
  },
  {
   "cell_type": "code",
   "execution_count": null,
   "id": "dd97f4bd",
   "metadata": {},
   "outputs": [],
   "source": []
  }
 ],
 "metadata": {
  "kernelspec": {
   "display_name": "Python 3 (ipykernel)",
   "language": "python",
   "name": "python3"
  },
  "language_info": {
   "codemirror_mode": {
    "name": "ipython",
    "version": 3
   },
   "file_extension": ".py",
   "mimetype": "text/x-python",
   "name": "python",
   "nbconvert_exporter": "python",
   "pygments_lexer": "ipython3",
   "version": "3.9.7"
  }
 },
 "nbformat": 4,
 "nbformat_minor": 5
}
